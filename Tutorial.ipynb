{
 "cells": [
  {
   "attachments": {
    "gr.png": {
     "image/png": "[encoded data removed]"
    }
   },
   "cell_type": "markdown",
   "metadata": {},
   "source": [
    "![gr.png](attachment:gr.png)\n",
    "# G-Research Financial Forecasting Challenge\n",
    "## Tutorial\n",
    "The aim of this tutorial is to load the training data set, fit some simple models, and generate a submission file.\n",
    "\n",
    "First, load some data science libraries"
   ]
  },
  {
   "cell_type": "code",
   "execution_count": 1,
   "metadata": {
    "collapsed": true
   },
   "outputs": [],
   "source": [
    "%matplotlib inline\n",
    "import numpy as np\n",
    "import pandas as pd\n",
    "import matplotlib.pyplot as plt\n",
    "import seaborn as sns\n",
    "import sklearn.linear_model"
   ]
  },
  {
   "cell_type": "markdown",
   "metadata": {},
   "source": [
    "Read the training data set and display the first few rows."
   ]
  },
  {
   "cell_type": "code",
   "execution_count": 2,
   "metadata": {},
   "outputs": [
    {
     "data": {
      "text/html": [
       "<div>\n",
       "<style>\n",
       "    .dataframe thead tr:only-child th {\n",
       "        text-align: right;\n",
       "    }\n",
       "\n",
       "    .dataframe thead th {\n",
       "        text-align: left;\n",
       "    }\n",
       "\n",
       "    .dataframe tbody tr th {\n",
       "        vertical-align: top;\n",
       "    }\n",
       "</style>\n",
       "<table border=\"1\" class=\"dataframe\">\n",
       "  <thead>\n",
       "    <tr style=\"text-align: right;\">\n",
       "      <th></th>\n",
       "      <th>Market</th>\n",
       "      <th>Day</th>\n",
       "      <th>Stock</th>\n",
       "      <th>x0</th>\n",
       "      <th>x1</th>\n",
       "      <th>x2</th>\n",
       "      <th>x3A</th>\n",
       "      <th>x3B</th>\n",
       "      <th>x3C</th>\n",
       "      <th>x3D</th>\n",
       "      <th>x3E</th>\n",
       "      <th>x4</th>\n",
       "      <th>x5</th>\n",
       "      <th>x6</th>\n",
       "      <th>y</th>\n",
       "      <th>Weight</th>\n",
       "    </tr>\n",
       "    <tr>\n",
       "      <th>Index</th>\n",
       "      <th></th>\n",
       "      <th></th>\n",
       "      <th></th>\n",
       "      <th></th>\n",
       "      <th></th>\n",
       "      <th></th>\n",
       "      <th></th>\n",
       "      <th></th>\n",
       "      <th></th>\n",
       "      <th></th>\n",
       "      <th></th>\n",
       "      <th></th>\n",
       "      <th></th>\n",
       "      <th></th>\n",
       "      <th></th>\n",
       "      <th></th>\n",
       "    </tr>\n",
       "  </thead>\n",
       "  <tbody>\n",
       "    <tr>\n",
       "      <th>0</th>\n",
       "      <td>1</td>\n",
       "      <td>1</td>\n",
       "      <td>363</td>\n",
       "      <td>0.002696</td>\n",
       "      <td>0.530040</td>\n",
       "      <td>0.400810</td>\n",
       "      <td>1.300048e-06</td>\n",
       "      <td>4.639533e-06</td>\n",
       "      <td>1.073594e-05</td>\n",
       "      <td>2.180516e-05</td>\n",
       "      <td>4.416943e-05</td>\n",
       "      <td>0.002212</td>\n",
       "      <td>6.214737e-07</td>\n",
       "      <td>200.000000</td>\n",
       "      <td>-0.000196</td>\n",
       "      <td>1.533780</td>\n",
       "    </tr>\n",
       "    <tr>\n",
       "      <th>1</th>\n",
       "      <td>1</td>\n",
       "      <td>1</td>\n",
       "      <td>1223</td>\n",
       "      <td>0.081093</td>\n",
       "      <td>1.366218</td>\n",
       "      <td>1.325157</td>\n",
       "      <td>1.656861e-05</td>\n",
       "      <td>3.024668e-05</td>\n",
       "      <td>5.261872e-05</td>\n",
       "      <td>4.193762e-05</td>\n",
       "      <td>4.193762e-05</td>\n",
       "      <td>0.010932</td>\n",
       "      <td>3.414868e-05</td>\n",
       "      <td>300.000000</td>\n",
       "      <td>-0.003798</td>\n",
       "      <td>0.843604</td>\n",
       "    </tr>\n",
       "    <tr>\n",
       "      <th>2</th>\n",
       "      <td>1</td>\n",
       "      <td>1</td>\n",
       "      <td>1372</td>\n",
       "      <td>0.009561</td>\n",
       "      <td>0.464871</td>\n",
       "      <td>0.328008</td>\n",
       "      <td>6.500872e-08</td>\n",
       "      <td>2.323204e-07</td>\n",
       "      <td>5.182686e-07</td>\n",
       "      <td>1.080834e-06</td>\n",
       "      <td>2.030442e-06</td>\n",
       "      <td>0.000306</td>\n",
       "      <td>4.079460e-08</td>\n",
       "      <td>159.692076</td>\n",
       "      <td>-0.000003</td>\n",
       "      <td>29.824024</td>\n",
       "    </tr>\n",
       "    <tr>\n",
       "      <th>3</th>\n",
       "      <td>1</td>\n",
       "      <td>1</td>\n",
       "      <td>1942</td>\n",
       "      <td>0.045300</td>\n",
       "      <td>0.608222</td>\n",
       "      <td>0.456662</td>\n",
       "      <td>1.928694e-08</td>\n",
       "      <td>6.495275e-08</td>\n",
       "      <td>1.338509e-07</td>\n",
       "      <td>2.644214e-07</td>\n",
       "      <td>6.980798e-07</td>\n",
       "      <td>0.000205</td>\n",
       "      <td>9.502066e-09</td>\n",
       "      <td>212.160378</td>\n",
       "      <td>-0.000008</td>\n",
       "      <td>100.388668</td>\n",
       "    </tr>\n",
       "    <tr>\n",
       "      <th>4</th>\n",
       "      <td>1</td>\n",
       "      <td>1</td>\n",
       "      <td>2712</td>\n",
       "      <td>0.001605</td>\n",
       "      <td>0.476718</td>\n",
       "      <td>0.205069</td>\n",
       "      <td>6.759866e-07</td>\n",
       "      <td>2.638783e-06</td>\n",
       "      <td>6.424519e-06</td>\n",
       "      <td>1.189923e-05</td>\n",
       "      <td>2.064450e-05</td>\n",
       "      <td>0.001525</td>\n",
       "      <td>3.428403e-07</td>\n",
       "      <td>153.724351</td>\n",
       "      <td>0.000065</td>\n",
       "      <td>5.950714</td>\n",
       "    </tr>\n",
       "  </tbody>\n",
       "</table>\n",
       "</div>"
      ],
      "text/plain": [
       "       Market  Day  Stock        x0        x1        x2           x3A  \\\n",
       "Index                                                                   \n",
       "0           1    1    363  0.002696  0.530040  0.400810  1.300048e-06   \n",
       "1           1    1   1223  0.081093  1.366218  1.325157  1.656861e-05   \n",
       "2           1    1   1372  0.009561  0.464871  0.328008  6.500872e-08   \n",
       "3           1    1   1942  0.045300  0.608222  0.456662  1.928694e-08   \n",
       "4           1    1   2712  0.001605  0.476718  0.205069  6.759866e-07   \n",
       "\n",
       "                x3B           x3C           x3D           x3E        x4  \\\n",
       "Index                                                                     \n",
       "0      4.639533e-06  1.073594e-05  2.180516e-05  4.416943e-05  0.002212   \n",
       "1      3.024668e-05  5.261872e-05  4.193762e-05  4.193762e-05  0.010932   \n",
       "2      2.323204e-07  5.182686e-07  1.080834e-06  2.030442e-06  0.000306   \n",
       "3      6.495275e-08  1.338509e-07  2.644214e-07  6.980798e-07  0.000205   \n",
       "4      2.638783e-06  6.424519e-06  1.189923e-05  2.064450e-05  0.001525   \n",
       "\n",
       "                 x5          x6         y      Weight  \n",
       "Index                                                  \n",
       "0      6.214737e-07  200.000000 -0.000196    1.533780  \n",
       "1      3.414868e-05  300.000000 -0.003798    0.843604  \n",
       "2      4.079460e-08  159.692076 -0.000003   29.824024  \n",
       "3      9.502066e-09  212.160378 -0.000008  100.388668  \n",
       "4      3.428403e-07  153.724351  0.000065    5.950714  "
      ]
     },
     "execution_count": 2,
     "metadata": {},
     "output_type": "execute_result"
    }
   ],
   "source": [
    "df = pd.read_csv('train.csv', index_col=0)\n",
    "df.head()"
   ]
  },
  {
   "cell_type": "markdown",
   "metadata": {},
   "source": [
    "Now read the test data set. Note that the return $y$ and weights $w$ are missing"
   ]
  },
  {
   "cell_type": "code",
   "execution_count": 3,
   "metadata": {},
   "outputs": [
    {
     "data": {
      "text/html": [
       "<div>\n",
       "<style>\n",
       "    .dataframe thead tr:only-child th {\n",
       "        text-align: right;\n",
       "    }\n",
       "\n",
       "    .dataframe thead th {\n",
       "        text-align: left;\n",
       "    }\n",
       "\n",
       "    .dataframe tbody tr th {\n",
       "        vertical-align: top;\n",
       "    }\n",
       "</style>\n",
       "<table border=\"1\" class=\"dataframe\">\n",
       "  <thead>\n",
       "    <tr style=\"text-align: right;\">\n",
       "      <th></th>\n",
       "      <th>Market</th>\n",
       "      <th>Day</th>\n",
       "      <th>Stock</th>\n",
       "      <th>x0</th>\n",
       "      <th>x1</th>\n",
       "      <th>x2</th>\n",
       "      <th>x3A</th>\n",
       "      <th>x3B</th>\n",
       "      <th>x3C</th>\n",
       "      <th>x3D</th>\n",
       "      <th>x3E</th>\n",
       "      <th>x4</th>\n",
       "      <th>x5</th>\n",
       "      <th>x6</th>\n",
       "    </tr>\n",
       "    <tr>\n",
       "      <th>Index</th>\n",
       "      <th></th>\n",
       "      <th></th>\n",
       "      <th></th>\n",
       "      <th></th>\n",
       "      <th></th>\n",
       "      <th></th>\n",
       "      <th></th>\n",
       "      <th></th>\n",
       "      <th></th>\n",
       "      <th></th>\n",
       "      <th></th>\n",
       "      <th></th>\n",
       "      <th></th>\n",
       "      <th></th>\n",
       "    </tr>\n",
       "  </thead>\n",
       "  <tbody>\n",
       "    <tr>\n",
       "      <th>0</th>\n",
       "      <td>1</td>\n",
       "      <td>13</td>\n",
       "      <td>363</td>\n",
       "      <td>0.000842</td>\n",
       "      <td>0.436594</td>\n",
       "      <td>0.477848</td>\n",
       "      <td>1.535381e-06</td>\n",
       "      <td>4.353950e-06</td>\n",
       "      <td>7.718616e-06</td>\n",
       "      <td>1.632886e-05</td>\n",
       "      <td>3.267851e-05</td>\n",
       "      <td>0.001661</td>\n",
       "      <td>9.724611e-07</td>\n",
       "      <td>112.968475</td>\n",
       "    </tr>\n",
       "    <tr>\n",
       "      <th>1</th>\n",
       "      <td>1</td>\n",
       "      <td>13</td>\n",
       "      <td>1223</td>\n",
       "      <td>0.020800</td>\n",
       "      <td>0.636143</td>\n",
       "      <td>0.670798</td>\n",
       "      <td>5.204133e-06</td>\n",
       "      <td>9.546012e-06</td>\n",
       "      <td>1.575258e-05</td>\n",
       "      <td>2.804666e-05</td>\n",
       "      <td>1.082500e-05</td>\n",
       "      <td>0.002104</td>\n",
       "      <td>2.146299e-05</td>\n",
       "      <td>100.000000</td>\n",
       "    </tr>\n",
       "    <tr>\n",
       "      <th>2</th>\n",
       "      <td>1</td>\n",
       "      <td>13</td>\n",
       "      <td>1372</td>\n",
       "      <td>0.068580</td>\n",
       "      <td>0.478891</td>\n",
       "      <td>0.481816</td>\n",
       "      <td>5.433730e-08</td>\n",
       "      <td>1.733539e-07</td>\n",
       "      <td>3.866963e-07</td>\n",
       "      <td>8.520664e-07</td>\n",
       "      <td>2.103176e-06</td>\n",
       "      <td>0.000222</td>\n",
       "      <td>3.085296e-08</td>\n",
       "      <td>188.335508</td>\n",
       "    </tr>\n",
       "    <tr>\n",
       "      <th>3</th>\n",
       "      <td>1</td>\n",
       "      <td>13</td>\n",
       "      <td>1942</td>\n",
       "      <td>0.011986</td>\n",
       "      <td>0.463201</td>\n",
       "      <td>0.294900</td>\n",
       "      <td>1.103215e-08</td>\n",
       "      <td>3.555558e-08</td>\n",
       "      <td>7.280376e-08</td>\n",
       "      <td>1.364231e-07</td>\n",
       "      <td>3.155050e-07</td>\n",
       "      <td>0.000141</td>\n",
       "      <td>1.678216e-08</td>\n",
       "      <td>212.123913</td>\n",
       "    </tr>\n",
       "    <tr>\n",
       "      <th>4</th>\n",
       "      <td>1</td>\n",
       "      <td>13</td>\n",
       "      <td>2712</td>\n",
       "      <td>0.000164</td>\n",
       "      <td>0.549980</td>\n",
       "      <td>0.352332</td>\n",
       "      <td>4.494670e-07</td>\n",
       "      <td>8.503405e-07</td>\n",
       "      <td>1.222847e-06</td>\n",
       "      <td>1.901114e-06</td>\n",
       "      <td>4.048304e-06</td>\n",
       "      <td>0.001235</td>\n",
       "      <td>4.595200e-07</td>\n",
       "      <td>124.024977</td>\n",
       "    </tr>\n",
       "  </tbody>\n",
       "</table>\n",
       "</div>"
      ],
      "text/plain": [
       "       Market  Day  Stock        x0        x1        x2           x3A  \\\n",
       "Index                                                                   \n",
       "0           1   13    363  0.000842  0.436594  0.477848  1.535381e-06   \n",
       "1           1   13   1223  0.020800  0.636143  0.670798  5.204133e-06   \n",
       "2           1   13   1372  0.068580  0.478891  0.481816  5.433730e-08   \n",
       "3           1   13   1942  0.011986  0.463201  0.294900  1.103215e-08   \n",
       "4           1   13   2712  0.000164  0.549980  0.352332  4.494670e-07   \n",
       "\n",
       "                x3B           x3C           x3D           x3E        x4  \\\n",
       "Index                                                                     \n",
       "0      4.353950e-06  7.718616e-06  1.632886e-05  3.267851e-05  0.001661   \n",
       "1      9.546012e-06  1.575258e-05  2.804666e-05  1.082500e-05  0.002104   \n",
       "2      1.733539e-07  3.866963e-07  8.520664e-07  2.103176e-06  0.000222   \n",
       "3      3.555558e-08  7.280376e-08  1.364231e-07  3.155050e-07  0.000141   \n",
       "4      8.503405e-07  1.222847e-06  1.901114e-06  4.048304e-06  0.001235   \n",
       "\n",
       "                 x5          x6  \n",
       "Index                            \n",
       "0      9.724611e-07  112.968475  \n",
       "1      2.146299e-05  100.000000  \n",
       "2      3.085296e-08  188.335508  \n",
       "3      1.678216e-08  212.123913  \n",
       "4      4.595200e-07  124.024977  "
      ]
     },
     "execution_count": 3,
     "metadata": {},
     "output_type": "execute_result"
    }
   ],
   "source": [
    "df_test = pd.read_csv('test.csv', index_col=0)\n",
    "df_test.head()"
   ]
  },
  {
   "cell_type": "markdown",
   "metadata": {},
   "source": [
    "## 1. Mean model\n",
    "Firstly, we will try a simple model that the predicted return is equal to the mean return for each stock."
   ]
  },
  {
   "cell_type": "code",
   "execution_count": 4,
   "metadata": {},
   "outputs": [
    {
     "data": {
      "text/plain": [
       "Stock\n",
       "0    0.000890\n",
       "1    0.000151\n",
       "2   -0.000069\n",
       "3   -0.000109\n",
       "4    0.000023\n",
       "Name: y, dtype: float64"
      ]
     },
     "execution_count": 4,
     "metadata": {},
     "output_type": "execute_result"
    }
   ],
   "source": [
    "stock_mean = df.groupby('Stock')['y'].mean()\n",
    "stock_mean.head()"
   ]
  },
  {
   "cell_type": "markdown",
   "metadata": {},
   "source": [
    "Now we use the stockwise means to make predictions $y_p$ for the test set and write them to a csv file."
   ]
  },
  {
   "cell_type": "code",
   "execution_count": 5,
   "metadata": {},
   "outputs": [
    {
     "data": {
      "text/plain": [
       "Index\n",
       "0    0.000482\n",
       "1   -0.000071\n",
       "2    0.000025\n",
       "3    0.000019\n",
       "4    0.000112\n",
       "Name: y, dtype: float64"
      ]
     },
     "execution_count": 5,
     "metadata": {},
     "output_type": "execute_result"
    }
   ],
   "source": [
    "yp = df_test['Stock'].map(stock_mean).rename('y')\n",
    "yp.head()"
   ]
  },
  {
   "cell_type": "markdown",
   "metadata": {},
   "source": [
    "Unfortunately, one of the values is not a number (NaN). We could try replacing this with a prediction of 0."
   ]
  },
  {
   "cell_type": "code",
   "execution_count": 6,
   "metadata": {},
   "outputs": [
    {
     "data": {
      "text/plain": [
       "Index\n",
       "43289   NaN\n",
       "Name: y, dtype: float64"
      ]
     },
     "execution_count": 6,
     "metadata": {},
     "output_type": "execute_result"
    }
   ],
   "source": [
    "yp[yp.isnull()]"
   ]
  },
  {
   "cell_type": "code",
   "execution_count": 7,
   "metadata": {
    "collapsed": true
   },
   "outputs": [],
   "source": [
    "yp.fillna(0).to_csv('mean_model.csv', header=True)"
   ]
  },
  {
   "cell_type": "markdown",
   "metadata": {},
   "source": [
    "## 2. Linear model\n",
    "Choose one of the predictors $x_4$ and build a linear model of the form\n",
    "$$y_p = \\alpha + \\beta x_4$$"
   ]
  },
  {
   "cell_type": "code",
   "execution_count": 8,
   "metadata": {},
   "outputs": [
    {
     "name": "stdout",
     "output_type": "stream",
     "text": [
      "alpha:  \t -7.28920282437e-05\n",
      "beta:   \t 0.0836916860756\n",
      "r^2 score:\t 0.0341790057712\n"
     ]
    }
   ],
   "source": [
    "model = sklearn.linear_model.LinearRegression()\n",
    "\n",
    "X = df[['x4']]\n",
    "y = df['y']\n",
    "model.fit(X, y)\n",
    "\n",
    "print('alpha:  \\t', model.intercept_)\n",
    "print('beta:   \\t', model.coef_[0])\n",
    "\n",
    "print('r^2 score:\\t', model.score(X, y))"
   ]
  },
  {
   "cell_type": "markdown",
   "metadata": {},
   "source": [
    "Make a plot using seaborn (only plot every 100th point to save time)"
   ]
  },
  {
   "cell_type": "code",
   "execution_count": 9,
   "metadata": {},
   "outputs": [
    {
     "data": {
      "image/png": "[encoded data removed]",
      "text/plain": [
       "<matplotlib.figure.Figure at 0x1b9dd098da0>"
      ]
     },
     "metadata": {},
     "output_type": "display_data"
    }
   ],
   "source": [
    "sns.regplot(X[::100], y[::100]);"
   ]
  },
  {
   "cell_type": "markdown",
   "metadata": {},
   "source": [
    "Use the model to make predictions and write them to csv"
   ]
  },
  {
   "cell_type": "code",
   "execution_count": 10,
   "metadata": {},
   "outputs": [
    {
     "data": {
      "text/plain": [
       "Index\n",
       "0    0.000066\n",
       "1    0.000103\n",
       "2   -0.000054\n",
       "3   -0.000061\n",
       "4    0.000030\n",
       "Name: y, dtype: float64"
      ]
     },
     "execution_count": 10,
     "metadata": {},
     "output_type": "execute_result"
    }
   ],
   "source": [
    "yp = pd.Series(model.predict(df_test[['x4']])).rename('y')\n",
    "yp.index.name = 'Index'\n",
    "yp.head()"
   ]
  },
  {
   "cell_type": "code",
   "execution_count": 11,
   "metadata": {
    "collapsed": true
   },
   "outputs": [],
   "source": [
    "yp.to_csv('linear_model.csv', header=True)"
   ]
  },
  {
   "cell_type": "code",
   "execution_count": null,
   "metadata": {
    "collapsed": true
   },
   "outputs": [],
   "source": []
  }
 ],
 "metadata": {
  "kernelspec": {
   "display_name": "Python 3",
   "language": "python",
   "name": "python3"
  },
  "language_info": {
   "codemirror_mode": {
    "name": "ipython",
    "version": 3
   },
   "file_extension": ".py",
   "mimetype": "text/x-python",
   "name": "python",
   "nbconvert_exporter": "python",
   "pygments_lexer": "ipython3",
   "version": "3.6.1"
  }
 },
 "nbformat": 4,
 "nbformat_minor": 2
}
